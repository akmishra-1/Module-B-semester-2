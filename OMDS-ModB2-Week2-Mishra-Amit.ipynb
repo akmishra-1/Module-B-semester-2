{
 "cells": [
  {
   "cell_type": "markdown",
   "id": "5190b54c-d49c-4d6f-80cc-22555336a9cd",
   "metadata": {},
   "source": [
    "# Week 2 - Preprocessing, part 2\n",
    "\n",
    "# 1. Lesson: None"
   ]
  },
  {
   "cell_type": "markdown",
   "id": "47c4e5ff-b05f-4ef2-96f1-49dcb5beb158",
   "metadata": {},
   "source": [
    "# 2. Weekly graph question"
   ]
  },
  {
   "cell_type": "markdown",
   "id": "aad37e29-6e84-41fa-886d-abc1312213ab",
   "metadata": {},
   "source": [
    "The Storytelling With Data book mentions planning on a \"Who, What, and How\" for your data story.  Write down a possible Who, What, and How for your data, using the ideas in the book."
   ]
  },
  {
   "cell_type": "code",
   "execution_count": null,
   "id": "c862fc32-1297-4587-b9da-4b0642ab3e6e",
   "metadata": {},
   "outputs": [],
   "source": [
    "\"\"\"\n",
    "Topic: Building Recommendation Systems for eCommerce\n",
    "Project link: https://drive.google.com/file/d/1O5wSSYrw84Dpv2iaR5XzMz1ll0LgXBYK/view\n",
    "\n",
    "Who: The audience is the data science and product teams at a mid/large e-commerce or gaming platform \n",
    "companies like Amazon, Target, Olist, or Nintendo, Steam, or XBox. Specifically, I will target the \n",
    "lead data scientist who oversees recommendation algorithms, and a product manager responsible for personalization. \n",
    "These people are directly responsible for improving user engagement and conversion through smarter recommendations, \n",
    "so they would benefit most from exploratory insights that could uncover overlooked patterns or opportunities \n",
    "for better user data modelling.\n",
    "\n",
    "What: The aim is to share findings from an exploratory analysis of three datasets — Steam user behavior, \n",
    "global game sales, and Olist's eCommerce logs - with a focus on patterns that could inform future improvements to \n",
    "recommendation systems. This might include things like content features that have been underutilized, regional \n",
    "preferences in genre, or trends in purchase timing. The goal is to bring new ideas to define where improvements in\n",
    "recommendation systems could add value.\n",
    "\n",
    "How: I can deliver a structured report (slideument) or Jupyter notebook with clear visuals, annotated takeaways, and a \n",
    "short executive summary. I'll compare how user interaction data, sales performance, and transactional behavior \n",
    "vary across platforms and contexts. The presentation will be geared toward sparking discussion about next steps \n",
    "in model development, not pitching a solution yet—just giving them fresh angles to think about.\n",
    "\"\"\""
   ]
  },
  {
   "cell_type": "markdown",
   "id": "898eb327-aefd-4ac0-b95a-92b616a2181b",
   "metadata": {},
   "source": [
    "# 3. Homework - work with your own data"
   ]
  },
  {
   "cell_type": "code",
   "execution_count": null,
   "id": "fe925521-979f-4983-8d85-8db8d1316e99",
   "metadata": {},
   "outputs": [],
   "source": [
    "import pandas as pd\n",
    "import numpy as np\n",
    "from datetime import datetime, timedelta\n",
    "import kagglehub\n",
    "import os"
   ]
  },
  {
   "cell_type": "markdown",
   "id": "14836788-b235-4cd4-b94d-5f749c6141a8",
   "metadata": {},
   "source": [
    "This week, you will do the same types of exercises as last week, but you should use your chosen datasets that someone in your class found last semester. (They likely will not be the particular datasets that you found yourself.)\n",
    "\n",
    "### Here are some types of analysis you can do  Use Google, documentation, and ChatGPT to help you:\n",
    "\n",
    "- Summarize the datasets using info() and describe()\n",
    "\n",
    "- Are there any duplicate rows?\n",
    "\n",
    "- Are there any duplicate values in a given column (when this would be inappropriate?)\n",
    "\n",
    "- What are the mean, median, and mode of each column?\n",
    "\n",
    "- Are there any missing or null values?\n",
    "\n",
    "    - Do you want to fill in the missing value with a mean value?  A value of your choice?  Remove that row?\n",
    "\n",
    "- Identify any other inconsistent data (e.g. someone seems to be taking an action before they are born.)\n",
    "\n",
    "- Encode any categorical variables (e.g. with one-hot encoding.)\n",
    "\n",
    "### Conclusions:\n",
    "\n",
    "- Are the data usable?  If not, find some new data!\n",
    "\n",
    "- Do you need to modify or correct the data in some way?\n",
    "\n",
    "- Is there any class imbalance?  (Categories that have many more items than other categories)."
   ]
  },
  {
   "cell_type": "code",
   "execution_count": null,
   "id": "98153f54",
   "metadata": {},
   "outputs": [],
   "source": [
    "olist_dataset_link = \"https://www.kaggle.com/datasets/olistbr/brazilian-ecommerce\"\n",
    "vgrecs_dataset_link = \"https://www.kaggle.com/datasets/antonkozyriev/game-recommendations-on-steam\"\n",
    "vgsales_dataset_link = \"https://www.kaggle.com/datasets/ashaheedq/video-games-sales-2019\"\n",
    "\n",
    "olist_path = kagglehub.dataset_download(olist_dataset_link)\n",
    "vgrec_path = kagglehub.dataset_download(vgrecs_dataset_link)\n",
    "vgsales_path = kagglehub.dataset_download(vgsales_dataset_link)\n",
    "\n",
    "# Video Game Sales DFs\n",
    "vgsales_path_to_file = os.path.join(vgsales_path, \"vgsales-12-4-2019-short.csv\")\n",
    "vgsales_df_raw = pd.read_csv(vgsales_path_to_file)\n",
    "\n",
    "# Video Game Recommendation DFs\n",
    "vgrecs_games_df_raw = pd.read_csv(os.path.join(vgrec_path, \"games.csv\"))\n",
    "vgrecs_games_df_raw = pd.read_csv(os.path.join(vgrec_path, \"games.csv\"))\n",
    "vgrecs_games_df_raw = pd.read_csv(os.path.join(vgrec_path, \"games.csv\"))\n",
    "\n",
    "# Olist DFs\n",
    "olist_df_raw = pd.read_csv(os.path.join(olist_path, \"vgsales-12-4-2019-short.csv\"))"
   ]
  },
  {
   "cell_type": "markdown",
   "id": "abab9e6d-18cc-4863-b980-3e52f581763a",
   "metadata": {},
   "source": [
    "# 4. Storytelling With Data graph"
   ]
  },
  {
   "cell_type": "markdown",
   "id": "1911148d-9df6-4b33-a875-8c96408ec834",
   "metadata": {},
   "source": [
    "Just like last week: choose any graph in the Introduction of Storytelling With Data. Use matplotlib to reproduce it in a rough way. I don't expect you to spend an enormous amount of time on this; I understand that you likely will not have time to re-create every feature of the graph. However, if you're excited about learning to use matplotlib, this is a good way to do that. You don't have to duplicate the exact values on the graph; just the same rough shape will be enough.  If you don't feel comfortable using matplotlib yet, do the best you can and write down what you tried or what Google searches you did to find the answers."
   ]
  },
  {
   "cell_type": "code",
   "execution_count": null,
   "id": "8b2888f9-3700-45ab-9829-6a5372106f9f",
   "metadata": {},
   "outputs": [],
   "source": []
  }
 ],
 "metadata": {
  "kernelspec": {
   "display_name": "Python 3 (ipykernel)",
   "language": "python",
   "name": "python3"
  },
  "language_info": {
   "codemirror_mode": {
    "name": "ipython",
    "version": 3
   },
   "file_extension": ".py",
   "mimetype": "text/x-python",
   "name": "python",
   "nbconvert_exporter": "python",
   "pygments_lexer": "ipython3",
   "version": "3.12.0"
  }
 },
 "nbformat": 4,
 "nbformat_minor": 5
}
